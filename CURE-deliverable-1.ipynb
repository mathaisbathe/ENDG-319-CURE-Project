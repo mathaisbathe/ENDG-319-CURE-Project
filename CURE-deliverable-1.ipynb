{
 "cells": [
  {
   "cell_type": "markdown",
   "id": "25b49f3f-dfe5-48d2-961c-f03ae33d71ce",
   "metadata": {},
   "source": [
    "# CURE Project - Deliverable 1\n",
    "## Mathias Bathe - UCID 10183560"
   ]
  },
  {
   "cell_type": "markdown",
   "id": "dbbafa38-4a8d-4e09-8726-b9ab63759931",
   "metadata": {},
   "source": [
    "## TASK 1: GAINING A BASIC UNDERSTANDING OF PANDAS DATAFRAME\n",
    "## a)\n",
    "- Create a variable called 'emissions' and assign to it the following data in Table 1 as a pandas DataFrame\n",
    "- Create an excel file 'emissions_from_pandas.xlsx' from the 'emissions' variable using python"
   ]
  },
  {
   "cell_type": "code",
   "execution_count": 24,
   "id": "f90fe49d-fbff-418d-8524-007a421bfb08",
   "metadata": {},
   "outputs": [],
   "source": [
    "import pandas as pd\n",
    "\n",
    "# Given Data from Table 1\n",
    "low_altitude = [1.50, 1.48, 2.98, 1.40, 3.12, 0.25, 6.73, 5.30, 9.30, 6.96, 7.21, 0.87, 1.06, 7.39, 1.37]\n",
    "high_altitude = [7.59, 2.06, 8.86, 8.67, 5.61, 6.28, 4.04, 4.40, 9.52, 1.50, 6.07, 17.11, 3.57, 2.68, 6.46]\n",
    "data = {\"Low Altitude\": low_altitude, \"High Altitude\": high_altitude} #dictionary for given data\n",
    "\n",
    "# Create a table using pandas (DataFrame)\n",
    "emissions = pd.DataFrame(data)\n",
    "\n",
    "# Save to excel\n",
    "emissions.to_excel(\"emissions_from_pandas.xlsx\", index=False) # index=False to remove row numbers"
   ]
  },
  {
   "cell_type": "markdown",
   "id": "aaf40b5f-4a48-47da-9953-b73427d18b62",
   "metadata": {},
   "source": [
    "## b)\n",
    "- Run the given commands and show the outputs of the DataFrame using the .iloc[] method"
   ]
  },
  {
   "cell_type": "code",
   "execution_count": 25,
   "id": "0f531645-6d4d-48dc-9737-7802e48b27eb",
   "metadata": {},
   "outputs": [
    {
     "data": {
      "text/html": [
       "<div>\n",
       "<style scoped>\n",
       "    .dataframe tbody tr th:only-of-type {\n",
       "        vertical-align: middle;\n",
       "    }\n",
       "\n",
       "    .dataframe tbody tr th {\n",
       "        vertical-align: top;\n",
       "    }\n",
       "\n",
       "    .dataframe thead th {\n",
       "        text-align: right;\n",
       "    }\n",
       "</style>\n",
       "<table border=\"1\" class=\"dataframe\">\n",
       "  <thead>\n",
       "    <tr style=\"text-align: right;\">\n",
       "      <th></th>\n",
       "      <th>Low Altitude</th>\n",
       "      <th>High Altitude</th>\n",
       "    </tr>\n",
       "  </thead>\n",
       "  <tbody>\n",
       "    <tr>\n",
       "      <th>0</th>\n",
       "      <td>1.50</td>\n",
       "      <td>7.59</td>\n",
       "    </tr>\n",
       "    <tr>\n",
       "      <th>1</th>\n",
       "      <td>1.48</td>\n",
       "      <td>2.06</td>\n",
       "    </tr>\n",
       "    <tr>\n",
       "      <th>2</th>\n",
       "      <td>2.98</td>\n",
       "      <td>8.86</td>\n",
       "    </tr>\n",
       "    <tr>\n",
       "      <th>3</th>\n",
       "      <td>1.40</td>\n",
       "      <td>8.67</td>\n",
       "    </tr>\n",
       "    <tr>\n",
       "      <th>4</th>\n",
       "      <td>3.12</td>\n",
       "      <td>5.61</td>\n",
       "    </tr>\n",
       "  </tbody>\n",
       "</table>\n",
       "</div>"
      ],
      "text/plain": [
       "   Low Altitude  High Altitude\n",
       "0          1.50           7.59\n",
       "1          1.48           2.06\n",
       "2          2.98           8.86\n",
       "3          1.40           8.67\n",
       "4          3.12           5.61"
      ]
     },
     "execution_count": 25,
     "metadata": {},
     "output_type": "execute_result"
    }
   ],
   "source": [
    "emissions.head()"
   ]
  },
  {
   "cell_type": "code",
   "execution_count": 26,
   "id": "f9496378-8b65-4771-9afb-ca98539e51e1",
   "metadata": {},
   "outputs": [
    {
     "data": {
      "text/plain": [
       "1.5"
      ]
     },
     "execution_count": 26,
     "metadata": {},
     "output_type": "execute_result"
    }
   ],
   "source": [
    "emissions.iloc[0,0]"
   ]
  },
  {
   "cell_type": "code",
   "execution_count": 27,
   "id": "2dc220a9-2ead-4afb-8b13-b564c9ab4328",
   "metadata": {},
   "outputs": [
    {
     "data": {
      "text/plain": [
       "2.06"
      ]
     },
     "execution_count": 27,
     "metadata": {},
     "output_type": "execute_result"
    }
   ],
   "source": [
    "emissions.iloc[1,1]"
   ]
  },
  {
   "cell_type": "code",
   "execution_count": 28,
   "id": "454d1494-7e08-431f-b2e8-735764ac3690",
   "metadata": {},
   "outputs": [
    {
     "data": {
      "text/html": [
       "<div>\n",
       "<style scoped>\n",
       "    .dataframe tbody tr th:only-of-type {\n",
       "        vertical-align: middle;\n",
       "    }\n",
       "\n",
       "    .dataframe tbody tr th {\n",
       "        vertical-align: top;\n",
       "    }\n",
       "\n",
       "    .dataframe thead th {\n",
       "        text-align: right;\n",
       "    }\n",
       "</style>\n",
       "<table border=\"1\" class=\"dataframe\">\n",
       "  <thead>\n",
       "    <tr style=\"text-align: right;\">\n",
       "      <th></th>\n",
       "      <th>Low Altitude</th>\n",
       "      <th>High Altitude</th>\n",
       "    </tr>\n",
       "  </thead>\n",
       "  <tbody>\n",
       "    <tr>\n",
       "      <th>0</th>\n",
       "      <td>1.50</td>\n",
       "      <td>7.59</td>\n",
       "    </tr>\n",
       "    <tr>\n",
       "      <th>1</th>\n",
       "      <td>1.48</td>\n",
       "      <td>2.06</td>\n",
       "    </tr>\n",
       "  </tbody>\n",
       "</table>\n",
       "</div>"
      ],
      "text/plain": [
       "   Low Altitude  High Altitude\n",
       "0          1.50           7.59\n",
       "1          1.48           2.06"
      ]
     },
     "execution_count": 28,
     "metadata": {},
     "output_type": "execute_result"
    }
   ],
   "source": [
    "emissions.iloc[0:2,0:2]"
   ]
  },
  {
   "cell_type": "code",
   "execution_count": 29,
   "id": "1d504d6b-fc95-4d83-bdfc-eef8fb921d37",
   "metadata": {},
   "outputs": [
    {
     "data": {
      "text/html": [
       "<div>\n",
       "<style scoped>\n",
       "    .dataframe tbody tr th:only-of-type {\n",
       "        vertical-align: middle;\n",
       "    }\n",
       "\n",
       "    .dataframe tbody tr th {\n",
       "        vertical-align: top;\n",
       "    }\n",
       "\n",
       "    .dataframe thead th {\n",
       "        text-align: right;\n",
       "    }\n",
       "</style>\n",
       "<table border=\"1\" class=\"dataframe\">\n",
       "  <thead>\n",
       "    <tr style=\"text-align: right;\">\n",
       "      <th></th>\n",
       "      <th>Low Altitude</th>\n",
       "      <th>High Altitude</th>\n",
       "    </tr>\n",
       "  </thead>\n",
       "  <tbody>\n",
       "    <tr>\n",
       "      <th>2</th>\n",
       "      <td>2.98</td>\n",
       "      <td>8.86</td>\n",
       "    </tr>\n",
       "    <tr>\n",
       "      <th>3</th>\n",
       "      <td>1.40</td>\n",
       "      <td>8.67</td>\n",
       "    </tr>\n",
       "  </tbody>\n",
       "</table>\n",
       "</div>"
      ],
      "text/plain": [
       "   Low Altitude  High Altitude\n",
       "2          2.98           8.86\n",
       "3          1.40           8.67"
      ]
     },
     "execution_count": 29,
     "metadata": {},
     "output_type": "execute_result"
    }
   ],
   "source": [
    "emissions.iloc[2:4,:]"
   ]
  },
  {
   "cell_type": "markdown",
   "id": "55980260-61ac-4cd8-a7c2-182aacea6702",
   "metadata": {},
   "source": [
    "## c)\n",
    "- Create an xl file 'emissions_from_pandas.xlsx' from the emissions variable using the .to_excel method\n",
    "- Paste the screenshot of the input command"
   ]
  },
  {
   "cell_type": "code",
   "execution_count": 30,
   "id": "bb779bfc-efed-47c3-b714-08357667ff65",
   "metadata": {},
   "outputs": [],
   "source": [
    "# Create xl File\n",
    "emissions.to_excel(\"emissions_from_pandas.xlsx\", index=False) # index=False to remove row numbers"
   ]
  },
  {
   "cell_type": "markdown",
   "id": "fdfb9bf8-a729-4269-b4a0-df181c832482",
   "metadata": {},
   "source": [
    "## d)\n",
    "- Create an MS Excel file 'emissions_excel.xlsx' containing the data in Table 1 above with the column header and save it on your computer.\n",
    "- Create a variable 'emissions_from_excel’ from the ‘emissions_excel.xlsx’ file using pd_read function\n",
    "- Show the first five rows using .head()\n",
    "- Paste a screenshot with the input commands used"
   ]
  },
  {
   "cell_type": "code",
   "execution_count": 31,
   "id": "528d24a6-1a00-4493-b285-467b7f9b946e",
   "metadata": {},
   "outputs": [],
   "source": [
    "# Create MS Excel File with given data\n",
    "emissions.to_excel(\"emissions_excel.xlsx\", index=False)"
   ]
  },
  {
   "cell_type": "code",
   "execution_count": 32,
   "id": "dc6009ae-1ae4-4407-aa98-6ce75e8627ab",
   "metadata": {},
   "outputs": [],
   "source": [
    "# Read data back from excel\n",
    "emissions_from_excel = pd.read_excel(\"emissions_excel.xlsx\")"
   ]
  },
  {
   "cell_type": "code",
   "execution_count": 33,
   "id": "f9436c8f-5776-47e2-a65f-f5a1b0d45f3b",
   "metadata": {},
   "outputs": [
    {
     "data": {
      "text/html": [
       "<div>\n",
       "<style scoped>\n",
       "    .dataframe tbody tr th:only-of-type {\n",
       "        vertical-align: middle;\n",
       "    }\n",
       "\n",
       "    .dataframe tbody tr th {\n",
       "        vertical-align: top;\n",
       "    }\n",
       "\n",
       "    .dataframe thead th {\n",
       "        text-align: right;\n",
       "    }\n",
       "</style>\n",
       "<table border=\"1\" class=\"dataframe\">\n",
       "  <thead>\n",
       "    <tr style=\"text-align: right;\">\n",
       "      <th></th>\n",
       "      <th>Low Altitude</th>\n",
       "      <th>High Altitude</th>\n",
       "    </tr>\n",
       "  </thead>\n",
       "  <tbody>\n",
       "    <tr>\n",
       "      <th>0</th>\n",
       "      <td>1.50</td>\n",
       "      <td>7.59</td>\n",
       "    </tr>\n",
       "    <tr>\n",
       "      <th>1</th>\n",
       "      <td>1.48</td>\n",
       "      <td>2.06</td>\n",
       "    </tr>\n",
       "    <tr>\n",
       "      <th>2</th>\n",
       "      <td>2.98</td>\n",
       "      <td>8.86</td>\n",
       "    </tr>\n",
       "    <tr>\n",
       "      <th>3</th>\n",
       "      <td>1.40</td>\n",
       "      <td>8.67</td>\n",
       "    </tr>\n",
       "    <tr>\n",
       "      <th>4</th>\n",
       "      <td>3.12</td>\n",
       "      <td>5.61</td>\n",
       "    </tr>\n",
       "  </tbody>\n",
       "</table>\n",
       "</div>"
      ],
      "text/plain": [
       "   Low Altitude  High Altitude\n",
       "0          1.50           7.59\n",
       "1          1.48           2.06\n",
       "2          2.98           8.86\n",
       "3          1.40           8.67\n",
       "4          3.12           5.61"
      ]
     },
     "execution_count": 33,
     "metadata": {},
     "output_type": "execute_result"
    }
   ],
   "source": [
    "# Show first 5 rows\n",
    "emissions_from_excel.head()"
   ]
  },
  {
   "cell_type": "markdown",
   "id": "f062217c-2649-49f4-ad1e-913f365444b4",
   "metadata": {},
   "source": [
    "## TASK 2: NUMERICAL AND GRAPHICAL SUMMARY OF DATASETS USING PYTHON AND PANDAS"
   ]
  },
  {
   "cell_type": "markdown",
   "id": "d3e142d1-885d-4b76-96a4-d821666b99dc",
   "metadata": {},
   "source": [
    "# a)\n",
    "\n",
    "- Use pandas to show the stats for the emissions data, both at low and high altitude\n",
    "- Show the count, sample mean, sample std, min, max, median, first and third quartile"
   ]
  },
  {
   "cell_type": "code",
   "execution_count": 34,
   "id": "3c99bf3d-3e87-46f8-a966-2355bea30b7f",
   "metadata": {},
   "outputs": [
    {
     "data": {
      "text/html": [
       "<div>\n",
       "<style scoped>\n",
       "    .dataframe tbody tr th:only-of-type {\n",
       "        vertical-align: middle;\n",
       "    }\n",
       "\n",
       "    .dataframe tbody tr th {\n",
       "        vertical-align: top;\n",
       "    }\n",
       "\n",
       "    .dataframe thead th {\n",
       "        text-align: right;\n",
       "    }\n",
       "</style>\n",
       "<table border=\"1\" class=\"dataframe\">\n",
       "  <thead>\n",
       "    <tr style=\"text-align: right;\">\n",
       "      <th></th>\n",
       "      <th>Low Altitude</th>\n",
       "      <th>High Altitude</th>\n",
       "    </tr>\n",
       "  </thead>\n",
       "  <tbody>\n",
       "    <tr>\n",
       "      <th>count</th>\n",
       "      <td>15.000000</td>\n",
       "      <td>15.000000</td>\n",
       "    </tr>\n",
       "    <tr>\n",
       "      <th>mean</th>\n",
       "      <td>3.794667</td>\n",
       "      <td>6.294667</td>\n",
       "    </tr>\n",
       "    <tr>\n",
       "      <th>std</th>\n",
       "      <td>3.020801</td>\n",
       "      <td>3.890521</td>\n",
       "    </tr>\n",
       "    <tr>\n",
       "      <th>min</th>\n",
       "      <td>0.250000</td>\n",
       "      <td>1.500000</td>\n",
       "    </tr>\n",
       "    <tr>\n",
       "      <th>25%</th>\n",
       "      <td>1.385000</td>\n",
       "      <td>3.805000</td>\n",
       "    </tr>\n",
       "    <tr>\n",
       "      <th>50%</th>\n",
       "      <td>2.980000</td>\n",
       "      <td>6.070000</td>\n",
       "    </tr>\n",
       "    <tr>\n",
       "      <th>75%</th>\n",
       "      <td>6.845000</td>\n",
       "      <td>8.130000</td>\n",
       "    </tr>\n",
       "    <tr>\n",
       "      <th>max</th>\n",
       "      <td>9.300000</td>\n",
       "      <td>17.110000</td>\n",
       "    </tr>\n",
       "  </tbody>\n",
       "</table>\n",
       "</div>"
      ],
      "text/plain": [
       "       Low Altitude  High Altitude\n",
       "count     15.000000      15.000000\n",
       "mean       3.794667       6.294667\n",
       "std        3.020801       3.890521\n",
       "min        0.250000       1.500000\n",
       "25%        1.385000       3.805000\n",
       "50%        2.980000       6.070000\n",
       "75%        6.845000       8.130000\n",
       "max        9.300000      17.110000"
      ]
     },
     "execution_count": 34,
     "metadata": {},
     "output_type": "execute_result"
    }
   ],
   "source": [
    "emissions.describe()"
   ]
  },
  {
   "cell_type": "markdown",
   "id": "d1454c1a-15d5-4c18-8ba9-153533f6c2a8",
   "metadata": {},
   "source": [
    "# b)\n",
    "\n",
    "- Use pandas to generate a comparative boxplot of the emissions dataset\n",
    "- Interpret the boxplot (max 50 words)"
   ]
  },
  {
   "cell_type": "code",
   "execution_count": 50,
   "id": "0f1ea85f-41ef-41eb-a5e6-04d421095ab4",
   "metadata": {},
   "outputs": [
    {
     "data": {
      "text/plain": [
       "Text(0, 0.5, 'Emissions (g/gal)')"
      ]
     },
     "execution_count": 50,
     "metadata": {},
     "output_type": "execute_result"
    }
   ],
   "source": [
    "emissions.boxplot().set_ylabel('Emissions (g/gal)')"
   ]
  },
  {
   "cell_type": "markdown",
   "id": "af36dd1f-6105-429a-8176-18375c962134",
   "metadata": {},
   "source": [
    "## Interpretation HERE \n",
    "## ALSO MAKE SURE BOXPLOT SHOWS ABOVE"
   ]
  },
  {
   "cell_type": "markdown",
   "id": "7dbbaf8c-3ba5-4238-998e-de87ae61d63c",
   "metadata": {},
   "source": [
    "# c)\n",
    "\n",
    "- Use Excel to compute the stats in part a)\n",
    "- Draw the comparative boxplot in part b) (by hand?)"
   ]
  },
  {
   "cell_type": "markdown",
   "id": "87a63934-e9cb-4801-aad6-6177a5edff03",
   "metadata": {},
   "source": [
    "## TASK 3: IMPORTANCE OF GRAPHS"
   ]
  },
  {
   "cell_type": "markdown",
   "id": "3a1f313d-4f9d-4242-b9ad-cb9ae650d93e",
   "metadata": {},
   "source": []
  }
 ],
 "metadata": {
  "kernelspec": {
   "display_name": "Python 3 (ipykernel)",
   "language": "python",
   "name": "python3"
  },
  "language_info": {
   "codemirror_mode": {
    "name": "ipython",
    "version": 3
   },
   "file_extension": ".py",
   "mimetype": "text/x-python",
   "name": "python",
   "nbconvert_exporter": "python",
   "pygments_lexer": "ipython3",
   "version": "3.12.10"
  }
 },
 "nbformat": 4,
 "nbformat_minor": 5
}
