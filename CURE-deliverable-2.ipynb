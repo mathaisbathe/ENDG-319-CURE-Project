{
 "cells": [
  {
   "cell_type": "markdown",
   "id": "484d2399-c2ed-4ead-b414-aa0444fe72e0",
   "metadata": {},
   "source": [
    "# CURE DELIVERABLE 2 - Mathias Bathe UCID 10183560"
   ]
  },
  {
   "cell_type": "markdown",
   "id": "a11c968f-4dc7-4d5f-90c1-477c326a286a",
   "metadata": {},
   "source": [
    "# TASK 1\n",
    "\n",
    "## a) Create a dataframe variable ‘a’ with this dataset. This dataframe should have all the 569 instances, 30 features and the class of 569 instances as 0 (Malignant) or 1 (Benign). The column that contains the classes should be labeled as ‘typeofcancer’. Show the output of the input \"a.shape\""
   ]
  },
  {
   "cell_type": "code",
   "execution_count": 13,
   "id": "834752fb-050f-446f-8cdb-9c9e0c6c2163",
   "metadata": {},
   "outputs": [
    {
     "name": "stdout",
     "output_type": "stream",
     "text": [
      "     mean radius  mean texture  mean perimeter  mean area  mean smoothness  \\\n",
      "0          17.99         10.38          122.80     1001.0          0.11840   \n",
      "1          20.57         17.77          132.90     1326.0          0.08474   \n",
      "2          19.69         21.25          130.00     1203.0          0.10960   \n",
      "3          11.42         20.38           77.58      386.1          0.14250   \n",
      "4          20.29         14.34          135.10     1297.0          0.10030   \n",
      "..           ...           ...             ...        ...              ...   \n",
      "564        21.56         22.39          142.00     1479.0          0.11100   \n",
      "565        20.13         28.25          131.20     1261.0          0.09780   \n",
      "566        16.60         28.08          108.30      858.1          0.08455   \n",
      "567        20.60         29.33          140.10     1265.0          0.11780   \n",
      "568         7.76         24.54           47.92      181.0          0.05263   \n",
      "\n",
      "     mean compactness  mean concavity  mean concave points  mean symmetry  \\\n",
      "0             0.27760         0.30010              0.14710         0.2419   \n",
      "1             0.07864         0.08690              0.07017         0.1812   \n",
      "2             0.15990         0.19740              0.12790         0.2069   \n",
      "3             0.28390         0.24140              0.10520         0.2597   \n",
      "4             0.13280         0.19800              0.10430         0.1809   \n",
      "..                ...             ...                  ...            ...   \n",
      "564           0.11590         0.24390              0.13890         0.1726   \n",
      "565           0.10340         0.14400              0.09791         0.1752   \n",
      "566           0.10230         0.09251              0.05302         0.1590   \n",
      "567           0.27700         0.35140              0.15200         0.2397   \n",
      "568           0.04362         0.00000              0.00000         0.1587   \n",
      "\n",
      "     mean fractal dimension  ...  worst texture  worst perimeter  worst area  \\\n",
      "0                   0.07871  ...          17.33           184.60      2019.0   \n",
      "1                   0.05667  ...          23.41           158.80      1956.0   \n",
      "2                   0.05999  ...          25.53           152.50      1709.0   \n",
      "3                   0.09744  ...          26.50            98.87       567.7   \n",
      "4                   0.05883  ...          16.67           152.20      1575.0   \n",
      "..                      ...  ...            ...              ...         ...   \n",
      "564                 0.05623  ...          26.40           166.10      2027.0   \n",
      "565                 0.05533  ...          38.25           155.00      1731.0   \n",
      "566                 0.05648  ...          34.12           126.70      1124.0   \n",
      "567                 0.07016  ...          39.42           184.60      1821.0   \n",
      "568                 0.05884  ...          30.37            59.16       268.6   \n",
      "\n",
      "     worst smoothness  worst compactness  worst concavity  \\\n",
      "0             0.16220            0.66560           0.7119   \n",
      "1             0.12380            0.18660           0.2416   \n",
      "2             0.14440            0.42450           0.4504   \n",
      "3             0.20980            0.86630           0.6869   \n",
      "4             0.13740            0.20500           0.4000   \n",
      "..                ...                ...              ...   \n",
      "564           0.14100            0.21130           0.4107   \n",
      "565           0.11660            0.19220           0.3215   \n",
      "566           0.11390            0.30940           0.3403   \n",
      "567           0.16500            0.86810           0.9387   \n",
      "568           0.08996            0.06444           0.0000   \n",
      "\n",
      "     worst concave points  worst symmetry  worst fractal dimension  \\\n",
      "0                  0.2654          0.4601                  0.11890   \n",
      "1                  0.1860          0.2750                  0.08902   \n",
      "2                  0.2430          0.3613                  0.08758   \n",
      "3                  0.2575          0.6638                  0.17300   \n",
      "4                  0.1625          0.2364                  0.07678   \n",
      "..                    ...             ...                      ...   \n",
      "564                0.2216          0.2060                  0.07115   \n",
      "565                0.1628          0.2572                  0.06637   \n",
      "566                0.1418          0.2218                  0.07820   \n",
      "567                0.2650          0.4087                  0.12400   \n",
      "568                0.0000          0.2871                  0.07039   \n",
      "\n",
      "     typeofcancer  \n",
      "0               0  \n",
      "1               0  \n",
      "2               0  \n",
      "3               0  \n",
      "4               0  \n",
      "..            ...  \n",
      "564             0  \n",
      "565             0  \n",
      "566             0  \n",
      "567             0  \n",
      "568             1  \n",
      "\n",
      "[569 rows x 31 columns]\n"
     ]
    }
   ],
   "source": [
    "import pandas as pd\n",
    "import sklearn.datasets\n",
    "\n",
    "# Load dataset from sklearn\n",
    "cancer = sklearn.datasets.load_breast_cancer()\n",
    "\n",
    "# Visualization test\n",
    "#print(cancer)\n",
    "\n",
    "# Create dataframe\n",
    "a = pd.DataFrame(data = cancer.data, columns = cancer.feature_names)\n",
    "\n",
    "a['typeofcancer'] = cancer.target\n",
    "\n",
    "# input test\n",
    "a.shape # output from this should be (569,31)\n",
    "\n",
    "# Visualization test\n",
    "print(a)"
   ]
  },
  {
   "cell_type": "markdown",
   "id": "1e1bb7f3-44c4-4cc5-8cee-424468b9f548",
   "metadata": {},
   "source": [
    "## b) Create a dataframe variable ‘df’ by slicing dataframe ‘a’. The new datafraeme ‘df’ should have all the instances and their labels but with the following three features: mean radius, mean perimeter and mean area. [Hints: use .iloc method to extract necessary columns from ‘a’]\n",
    "\n",
    "NOTE: \n",
    "Intances = Each data point (row)\n",
    "Features = Measurements (e.g. mean radius, mean texture, etc...)\n",
    "Labels = The output label to predict (e.g. typeofcancer)"
   ]
  },
  {
   "cell_type": "code",
   "execution_count": null,
   "id": "15185fc9-a3ce-4f8f-b43c-8ca666fba255",
   "metadata": {},
   "outputs": [],
   "source": [
    "# Creating the dataframe 'df' by slicing dataframe 'a'\n",
    "# NOTE: 'df' should have all the instances, their labels"
   ]
  },
  {
   "cell_type": "code",
   "execution_count": 16,
   "id": "f66c08ef-790e-46b2-b20b-eb1814a1a4c2",
   "metadata": {},
   "outputs": [
    {
     "data": {
      "text/html": [
       "<div>\n",
       "<style scoped>\n",
       "    .dataframe tbody tr th:only-of-type {\n",
       "        vertical-align: middle;\n",
       "    }\n",
       "\n",
       "    .dataframe tbody tr th {\n",
       "        vertical-align: top;\n",
       "    }\n",
       "\n",
       "    .dataframe thead th {\n",
       "        text-align: right;\n",
       "    }\n",
       "</style>\n",
       "<table border=\"1\" class=\"dataframe\">\n",
       "  <thead>\n",
       "    <tr style=\"text-align: right;\">\n",
       "      <th></th>\n",
       "      <th>mean radius</th>\n",
       "      <th>mean perimeter</th>\n",
       "      <th>mean area</th>\n",
       "      <th>typeofcancer</th>\n",
       "    </tr>\n",
       "  </thead>\n",
       "  <tbody>\n",
       "    <tr>\n",
       "      <th>0</th>\n",
       "      <td>17.99</td>\n",
       "      <td>122.8</td>\n",
       "      <td>1001.0</td>\n",
       "      <td>0</td>\n",
       "    </tr>\n",
       "    <tr>\n",
       "      <th>1</th>\n",
       "      <td>20.57</td>\n",
       "      <td>132.9</td>\n",
       "      <td>1326.0</td>\n",
       "      <td>0</td>\n",
       "    </tr>\n",
       "  </tbody>\n",
       "</table>\n",
       "</div>"
      ],
      "text/plain": [
       "   mean radius  mean perimeter  mean area  typeofcancer\n",
       "0        17.99           122.8     1001.0             0\n",
       "1        20.57           132.9     1326.0             0"
      ]
     },
     "execution_count": 16,
     "metadata": {},
     "output_type": "execute_result"
    }
   ],
   "source": [
    "# i) Show the first 2 rows\n",
    "\n",
    "import sklearn.datasets\n",
    "import pandas as pd\n",
    "\n",
    "# Previous step\n",
    "cancer = sklearn.datasets.load_breast_cancer()\n",
    "a = pd.DataFrame(data = cancer.data, columns = cancer.feature_names)\n",
    "a['typeofcancer'] = cancer.target\n",
    "\n",
    "# Check feature column posiitons\n",
    "#print(a)\n",
    "\n",
    "# Feature column positions\n",
    "# NOTE: Python starts a 0\n",
    "# 'mean radius' --> column 0\n",
    "# 'mean perimeter' --> column 2\n",
    "# 'mean area' --> column 3\n",
    "# 'mean radius' --> column 30\n",
    "\n",
    "# New dataframe 'df'\n",
    "df = a.iloc[:, [0, 2, 3, 30]] # NOTE: [row, column]\n",
    "\n",
    "# Output first 2 rows\n",
    "df.head(2)"
   ]
  },
  {
   "cell_type": "code",
   "execution_count": 3,
   "id": "ce85e32a-3ded-4384-b9fa-e2e5e9902fbe",
   "metadata": {},
   "outputs": [],
   "source": [
    "# ii) Show the rows with indices 17, 18, 19, 20, 21"
   ]
  },
  {
   "cell_type": "markdown",
   "id": "d4fd1f56-86ac-4e1d-a96c-923cd93a0d4a",
   "metadata": {},
   "source": [
    "# TASK 2 \n",
    "\n",
    "Suppose we want to explore the possibility of developing a ML model that cna diagnose a new patient's cancer conditino as benign or malignant from the features in dataframe \"df\"."
   ]
  },
  {
   "cell_type": "markdown",
   "id": "dd7da746-782f-46a8-8722-ec4f127447c9",
   "metadata": {},
   "source": [
    "## i) Write the code to generate Figure 1 given in the handout. Show a screenshot of the code (input) and the figure (output) from your work. You can choose any color or data marker."
   ]
  },
  {
   "cell_type": "code",
   "execution_count": null,
   "id": "77f2a914-ca8d-4ce6-948d-ba358822316c",
   "metadata": {},
   "outputs": [],
   "source": []
  },
  {
   "cell_type": "markdown",
   "id": "0cb3085c-2020-4c00-8689-03600f8dc485",
   "metadata": {},
   "source": [
    "## ii) Briefly describe what each of the subplots in Figure 1 reveal about the data"
   ]
  },
  {
   "cell_type": "markdown",
   "id": "ae4bb6a5-53ac-478c-b805-c10c374661ef",
   "metadata": {},
   "source": [
    "TYPE HERE"
   ]
  },
  {
   "cell_type": "markdown",
   "id": "35501107-7801-410d-aee5-dcfc58cbad3e",
   "metadata": {},
   "source": [
    "# TASK 3\n",
    "\n",
    "Save the file generated in TASK 2. Copy it and modify the code to generate Figure 2 given in the handout. \n",
    "\n",
    "NOTE: In jupyter notebook you can use the 'Duplicate' button to create a copy of a file as shown in the handout."
   ]
  },
  {
   "cell_type": "markdown",
   "id": "7f38ca1c-e9c4-475a-bb83-f061299d4b68",
   "metadata": {},
   "source": [
    "## i) Generate the Figure 2 in the handout. Show your screenshots of the code (input) and the figure (output) from your work. You can choose any color and data marker."
   ]
  },
  {
   "cell_type": "code",
   "execution_count": null,
   "id": "ab3947b3-9c66-4f19-9667-da8452021de9",
   "metadata": {},
   "outputs": [],
   "source": []
  },
  {
   "cell_type": "markdown",
   "id": "a8e7792e-a859-45a6-9f55-1e1582124615",
   "metadata": {},
   "source": [
    "## ii) Brifely describe what each of the subplots (except the hostogram) in Figure 2 reveal about the data"
   ]
  },
  {
   "cell_type": "markdown",
   "id": "f5862f2c-620a-4934-bb6c-f3bc1d259364",
   "metadata": {},
   "source": [
    "TYPE HERE"
   ]
  },
  {
   "cell_type": "markdown",
   "id": "33284ed0-18f7-4fe2-9ef9-33f1f8004881",
   "metadata": {},
   "source": [
    "# TASK 4\n",
    "\n",
    "Think of a classification problem from your own experience and interests (e.g. distinguishing between two types of things). Collect some real-world data to solve that classification problem\n",
    "\n",
    "Have at least two classes, two attributes and at least 5 instances per class.\n",
    "\n",
    "Create a dataframe with this data and paste a screenshot of it.\n",
    "\n",
    "Give a short description of the data (number of isntances, number of attributes and the list of attributes, list of classes, and creator i.e. your anme). The attributes should be numerical.\n",
    "\n",
    "The classification problem should be a new one, but the dataset may contain data that re new (generated by you by any rough emasurements) or collected from public domain. Cite the references/sources you collected from if you did."
   ]
  }
 ],
 "metadata": {
  "kernelspec": {
   "display_name": "Python 3 (ipykernel)",
   "language": "python",
   "name": "python3"
  },
  "language_info": {
   "codemirror_mode": {
    "name": "ipython",
    "version": 3
   },
   "file_extension": ".py",
   "mimetype": "text/x-python",
   "name": "python",
   "nbconvert_exporter": "python",
   "pygments_lexer": "ipython3",
   "version": "3.12.10"
  }
 },
 "nbformat": 4,
 "nbformat_minor": 5
}
